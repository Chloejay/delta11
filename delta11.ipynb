{
 "cells": [
  {
   "cell_type": "markdown",
   "metadata": {},
   "source": [
    "<h4>D11 shopping day sales KPI tracking</h4>\n",
    "<ul style='color:orange'>\n",
    "    <li>sales order table</li>\n",
    "    <li>product sales table</li>\n",
    "    <li>product master table</li> \n",
    "    <li>product inventory table</li>\n",
    "</ul> \n",
    "<p>by category, by sales, by inventory and by time mins/timestamp, totally in the daily base</p>  "
   ]
  },
  {
   "cell_type": "code",
   "execution_count": 1,
   "metadata": {},
   "outputs": [
    {
     "data": {
      "text/html": [
       "<div>\n",
       "<style scoped>\n",
       "    .dataframe tbody tr th:only-of-type {\n",
       "        vertical-align: middle;\n",
       "    }\n",
       "\n",
       "    .dataframe tbody tr th {\n",
       "        vertical-align: top;\n",
       "    }\n",
       "\n",
       "    .dataframe thead th {\n",
       "        text-align: right;\n",
       "    }\n",
       "</style>\n",
       "<table border=\"1\" class=\"dataframe\">\n",
       "  <thead>\n",
       "    <tr style=\"text-align: right;\">\n",
       "      <th></th>\n",
       "      <th>*:店铺名称</th>\n",
       "      <th>*:订单号</th>\n",
       "      <th>*:销售号</th>\n",
       "      <th>*:货品种数</th>\n",
       "      <th>*:货品数量</th>\n",
       "      <th>*:商品总额</th>\n",
       "      <th>*:商品销售额</th>\n",
       "      <th>*:优惠额</th>\n",
       "      <th>*:物流金额</th>\n",
       "      <th>*:销售价</th>\n",
       "      <th>...</th>\n",
       "      <th>*:毛利率</th>\n",
       "      <th>*:订单创建时间</th>\n",
       "      <th>*:订单支付时间</th>\n",
       "      <th>*:订单发货时间</th>\n",
       "      <th>*:仓库名称</th>\n",
       "      <th>*:附加费</th>\n",
       "      <th>*:物流公司</th>\n",
       "      <th>*:收货人</th>\n",
       "      <th>*:物流单号</th>\n",
       "      <th>*:重量</th>\n",
       "    </tr>\n",
       "  </thead>\n",
       "  <tbody>\n",
       "    <tr>\n",
       "      <th>0</th>\n",
       "      <td>deltaq旗舰店-天猫</td>\n",
       "      <td>253165602744742668</td>\n",
       "      <td>S201811012000004</td>\n",
       "      <td>1</td>\n",
       "      <td>1</td>\n",
       "      <td>86.0</td>\n",
       "      <td>56</td>\n",
       "      <td>30.0</td>\n",
       "      <td>0.0</td>\n",
       "      <td>56.0</td>\n",
       "      <td>...</td>\n",
       "      <td>22%</td>\n",
       "      <td>2018-10-31 22:08:42</td>\n",
       "      <td>2018-10-31 22:08:56</td>\n",
       "      <td>2018-11-01 17:08:13</td>\n",
       "      <td>发网奉贤仓</td>\n",
       "      <td>0</td>\n",
       "      <td>申通E物流</td>\n",
       "      <td>张先生</td>\n",
       "      <td>3382526515535</td>\n",
       "      <td>370.0</td>\n",
       "    </tr>\n",
       "    <tr>\n",
       "      <th>1</th>\n",
       "      <td>deltaq旗舰店-天猫</td>\n",
       "      <td>254780672292100839</td>\n",
       "      <td>S201811042000002</td>\n",
       "      <td>2</td>\n",
       "      <td>6</td>\n",
       "      <td>300.0</td>\n",
       "      <td>230</td>\n",
       "      <td>70.0</td>\n",
       "      <td>0.0</td>\n",
       "      <td>230.0</td>\n",
       "      <td>...</td>\n",
       "      <td>30%</td>\n",
       "      <td>2018-11-03 18:34:20</td>\n",
       "      <td>2018-11-03 18:34:25</td>\n",
       "      <td>2018-11-04 17:13:05</td>\n",
       "      <td>发网奉贤仓</td>\n",
       "      <td>0</td>\n",
       "      <td>申通E物流</td>\n",
       "      <td>赵丰弟</td>\n",
       "      <td>3382879018587</td>\n",
       "      <td>970.0</td>\n",
       "    </tr>\n",
       "  </tbody>\n",
       "</table>\n",
       "<p>2 rows × 23 columns</p>\n",
       "</div>"
      ],
      "text/plain": [
       "         *:店铺名称               *:订单号             *:销售号  *:货品种数  *:货品数量  *:商品总额  \\\n",
       "0  deltaq旗舰店-天猫  253165602744742668  S201811012000004       1       1    86.0   \n",
       "1  deltaq旗舰店-天猫  254780672292100839  S201811042000002       2       6   300.0   \n",
       "\n",
       "   *:商品销售额  *:优惠额  *:物流金额  *:销售价  ...    *:毛利率             *:订单创建时间  \\\n",
       "0       56   30.0     0.0   56.0  ...      22%  2018-10-31 22:08:42   \n",
       "1      230   70.0     0.0  230.0  ...      30%  2018-11-03 18:34:20   \n",
       "\n",
       "              *:订单支付时间             *:订单发货时间 *:仓库名称 *:附加费 *:物流公司 *:收货人  \\\n",
       "0  2018-10-31 22:08:56  2018-11-01 17:08:13  发网奉贤仓     0  申通E物流   张先生   \n",
       "1  2018-11-03 18:34:25  2018-11-04 17:13:05  发网奉贤仓     0  申通E物流   赵丰弟   \n",
       "\n",
       "          *:物流单号   *:重量  \n",
       "0  3382526515535  370.0  \n",
       "1  3382879018587  970.0  \n",
       "\n",
       "[2 rows x 23 columns]"
      ]
     },
     "execution_count": 1,
     "metadata": {},
     "output_type": "execute_result"
    }
   ],
   "source": [
    "import warnings\n",
    "warnings.filterwarnings(\"ignore\")\n",
    "import pandas as pd\n",
    "import matplotlib.pyplot as plt\n",
    "%matplotlib inline \n",
    "import chardet\n",
    "\n",
    "with open('downloads/订单销售情况导出-2018-11-10-89.csv', 'rb') as f:\n",
    "    result = chardet.detect(f.read()) \n",
    "salesOrder=pd.read_csv('downloads/订单销售情况导出-2018-11-10-89.csv', \n",
    "            encoding=result['encoding']) \n",
    "salesOrder.head(2)  "
   ]
  },
  {
   "cell_type": "code",
   "execution_count": 2,
   "metadata": {},
   "outputs": [],
   "source": [
    "import datetime\n",
    "salesOrder['order_time']= salesOrder['*:订单支付时间'] \n",
    "orderDay=salesOrder['order_day']=pd.to_datetime(salesOrder['order_time']).dt.day\n",
    "orderHour=salesOrder['order_hour']= pd.to_datetime(salesOrder['order_time']).dt.hour\n",
    "#orderMinute=salesOrder['order_minute']= pd.to_datetime(salesOrder['order_time']).dt.minute\n",
    "#orderSecond=salesOrder['order_second']= pd.to_datetime(salesOrder['order_time']).dt.second  \n",
    "#now= datetime.datetime.now() #2018-11-11-00:00 \n",
    "#now_time_by_minute= (now.day*3600)+ (now.hour*60) + now.minute \n",
    "#salesOrder['time_taken']= now_time_by_minute -salesOrder['order_day']*3600+salesOrder['order_hour']*60+salesOrder['order_minute']\n",
    "#salesOrder['time_taken'] \n",
    "#salesOrder['time_taken_10_mins']=pd.cut(salesOrder['time_taken'], \n",
    "                                        #[5, 10, 15, 20,25, \n",
    "                                        #30, 35, 40, 45, 50, \n",
    "                                        #55, 60, 65, 70, 75, \n",
    "                                        #80, 85, 90, 95, 100], \n",
    "                                        #labels=False\n",
    "                                       #) \n",
    "#need to change the by time chunk of hours  "
   ]
  },
  {
   "cell_type": "markdown",
   "metadata": {},
   "source": [
    "<h4 style='color:red'><strong>how many sales ORDER by time</strong></h4>"
   ]
  },
  {
   "cell_type": "code",
   "execution_count": 3,
   "metadata": {},
   "outputs": [
    {
     "data": {
      "text/plain": [
       "Text(0.5,1,'Sales Quantity by the Hour')"
      ]
     },
     "execution_count": 3,
     "metadata": {},
     "output_type": "execute_result"
    },
    {
     "data": {
      "image/png": "[encoded data removed]",
      "text/plain": [
       "<Figure size 432x288 with 1 Axes>"
      ]
     },
     "metadata": {},
     "output_type": "display_data"
    }
   ],
   "source": [
    "salesOrder.groupby('order_hour')['*:订单号'].count()\n",
    "salesOrder.groupby('order_hour')['*:订单号'].count().plot()\n",
    "plt.ylabel('The Order Quantity') \n",
    "plt.title('Sales Quantity by the Hour') "
   ]
  },
  {
   "cell_type": "markdown",
   "metadata": {},
   "source": [
    "<h4 style='color:red'><strong>how many product sales QTY by time</strong></h4>  "
   ]
  },
  {
   "cell_type": "code",
   "execution_count": 4,
   "metadata": {},
   "outputs": [
    {
     "data": {
      "text/plain": [
       "Text(0.5,1,'Product Sold Quantity by Hour')"
      ]
     },
     "execution_count": 4,
     "metadata": {},
     "output_type": "execute_result"
    },
    {
     "data": {
      "image/png": "[encoded data removed]",
      "text/plain": [
       "<Figure size 432x288 with 1 Axes>"
      ]
     },
     "metadata": {},
     "output_type": "display_data"
    }
   ],
   "source": [
    "salesOrder.groupby('order_hour')['*:货品数量'].sum()  \n",
    "salesOrder.groupby('order_hour')['*:货品数量'].sum().plot.bar()\n",
    "plt.ylabel('Product Sold Quantity')\n",
    "plt.title('Product Sold Quantity by Hour') "
   ]
  },
  {
   "cell_type": "markdown",
   "metadata": {},
   "source": [
    "<h4 style='color:red'><strong>how many product sales AMOUNT by time</strong></h4>   "
   ]
  },
  {
   "cell_type": "code",
   "execution_count": 5,
   "metadata": {},
   "outputs": [
    {
     "data": {
      "text/plain": [
       "Text(0.5,1,'Product Sales Amount by Hour')"
      ]
     },
     "execution_count": 5,
     "metadata": {},
     "output_type": "execute_result"
    },
    {
     "data": {
      "image/png": "[encoded data removed]",
      "text/plain": [
       "<Figure size 432x288 with 1 Axes>"
      ]
     },
     "metadata": {},
     "output_type": "display_data"
    }
   ],
   "source": [
    "salesOrder.groupby('order_hour')['*:商品销售额'].sum()\n",
    "salesOrder.groupby('order_hour')['*:商品销售额'].sum().plot.bar() \n",
    "plt.ylabel('Product Sales Amount') \n",
    "plt.title('Product Sales Amount by Hour') "
   ]
  },
  {
   "cell_type": "markdown",
   "metadata": {},
   "source": [
    "<p style='color:red'><strong>Average Order Value</strong></p> "
   ]
  },
  {
   "cell_type": "code",
   "execution_count": 6,
   "metadata": {},
   "outputs": [
    {
     "data": {
      "text/plain": [
       "457.3333333333333"
      ]
     },
     "execution_count": 6,
     "metadata": {},
     "output_type": "execute_result"
    }
   ],
   "source": [
    "average_order_value= salesOrder['*:商品销售额'].sum()/salesOrder.loc[:,'*:订单号'].count() \n",
    "#salesThrough=salesOrder.loc[:,'*:货品种数'].sum()/salesOrder.loc[:,'*:订单号'].count()  \n",
    "average_order_value "
   ]
  },
  {
   "cell_type": "markdown",
   "metadata": {},
   "source": [
    "<p style='color:red'><strong>Profit Margin</strong></p> "
   ]
  },
  {
   "cell_type": "code",
   "execution_count": 7,
   "metadata": {},
   "outputs": [
    {
     "name": "stdout",
     "output_type": "stream",
     "text": [
      "18.04% \n"
     ]
    }
   ],
   "source": [
    "profitMargin= 1-(salesOrder['*:商品成本'].sum()/salesOrder['*:商品销售额'].sum())\n",
    "print('{:.2%} '.format(profitMargin))  "
   ]
  },
  {
   "cell_type": "markdown",
   "metadata": {},
   "source": [
    "<p style='color:red'><strong>Final Discount Percentage</strong></p>  "
   ]
  },
  {
   "cell_type": "code",
   "execution_count": 8,
   "metadata": {},
   "outputs": [
    {
     "name": "stdout",
     "output_type": "stream",
     "text": [
      "24.28%\n"
     ]
    }
   ],
   "source": [
    "finalDiscountPercentage= 1-(salesOrder['*:商品销售额'].sum()/salesOrder['*:商品总额'].sum()) \n",
    "print('{:.2%}'.format(finalDiscountPercentage))    "
   ]
  },
  {
   "cell_type": "markdown",
   "metadata": {},
   "source": [
    "<p style='color:red'><strong>sales amount by each shop</strong></p> "
   ]
  },
  {
   "cell_type": "code",
   "execution_count": 9,
   "metadata": {},
   "outputs": [
    {
     "name": "stdout",
     "output_type": "stream",
     "text": [
      "*:店铺名称\n",
      "deltaQcoffee-京东    6627\n",
      "deltaq旗舰店-天猫       8433\n",
      "deltaq有赞商城         2776\n",
      "Name: *:商品销售额, dtype: int64\n"
     ]
    },
    {
     "data": {
      "text/plain": [
       "<matplotlib.legend.Legend at 0x10da220f0>"
      ]
     },
     "execution_count": 9,
     "metadata": {},
     "output_type": "execute_result"
    },
    {
     "data": {
      "image/png": "[encoded data removed]",
      "text/plain": [
       "<Figure size 432x288 with 1 Axes>"
      ]
     },
     "metadata": {},
     "output_type": "display_data"
    }
   ],
   "source": [
    "salesbyShop=salesOrder.groupby('*:店铺名称')['*:商品销售额'].sum()\n",
    "print(salesbyShop)\n",
    "salesbyShop.plot.pie() \n",
    "plt.legend(loc='upper right')   "
   ]
  },
  {
   "cell_type": "code",
   "execution_count": 10,
   "metadata": {},
   "outputs": [
    {
     "data": {
      "text/html": [
       "<div>\n",
       "<style scoped>\n",
       "    .dataframe tbody tr th:only-of-type {\n",
       "        vertical-align: middle;\n",
       "    }\n",
       "\n",
       "    .dataframe tbody tr th {\n",
       "        vertical-align: top;\n",
       "    }\n",
       "\n",
       "    .dataframe thead th {\n",
       "        text-align: right;\n",
       "    }\n",
       "</style>\n",
       "<table border=\"1\" class=\"dataframe\">\n",
       "  <thead>\n",
       "    <tr style=\"text-align: right;\">\n",
       "      <th></th>\n",
       "      <th>*:商品类型</th>\n",
       "      <th>*:品牌</th>\n",
       "      <th>*:商品编号</th>\n",
       "      <th>*:货号</th>\n",
       "      <th>*:货品名称</th>\n",
       "      <th>*:商品规格</th>\n",
       "      <th>*:销售单价</th>\n",
       "      <th>*:销售量</th>\n",
       "      <th>*:销售额</th>\n",
       "      <th>*:日均销售额</th>\n",
       "      <th>...</th>\n",
       "      <th>*:退货总额</th>\n",
       "      <th>*:平均成本</th>\n",
       "      <th>*:销售成本</th>\n",
       "      <th>*:销售平均毛利</th>\n",
       "      <th>*:销售毛利</th>\n",
       "      <th>*:销售毛利率</th>\n",
       "      <th>dfs_en_name</th>\n",
       "      <th>category</th>\n",
       "      <th>original_price</th>\n",
       "      <th>d11_price</th>\n",
       "    </tr>\n",
       "  </thead>\n",
       "  <tbody>\n",
       "    <tr>\n",
       "      <th>23</th>\n",
       "      <td>咖啡粉/Powder</td>\n",
       "      <td>delta</td>\n",
       "      <td>COFFEE-UNIVERSAL-GROUND</td>\n",
       "      <td>5227052</td>\n",
       "      <td>岱塔研磨咖啡粉</td>\n",
       "      <td>NaN</td>\n",
       "      <td>0.0</td>\n",
       "      <td>3</td>\n",
       "      <td>0.0</td>\n",
       "      <td>0.0</td>\n",
       "      <td>...</td>\n",
       "      <td>0</td>\n",
       "      <td>39.43</td>\n",
       "      <td>118.29</td>\n",
       "      <td>-39.43</td>\n",
       "      <td>-118.29</td>\n",
       "      <td>0%</td>\n",
       "      <td>DECAFFEINATED COFFEE UNIV.GROUNG 250G</td>\n",
       "      <td>B&amp;P</td>\n",
       "      <td>88.0</td>\n",
       "      <td>88.0</td>\n",
       "    </tr>\n",
       "    <tr>\n",
       "      <th>24</th>\n",
       "      <td>咖啡粉/Powder</td>\n",
       "      <td>delta</td>\n",
       "      <td>COFFEE-UNIVERSAL-GROUND-1</td>\n",
       "      <td>5014060</td>\n",
       "      <td>白金岱塔研磨咖啡粉250G|PLATINUM-COFFEE-UNIV.GROUND-250G...</td>\n",
       "      <td>烘焙程度:重度烘焙</td>\n",
       "      <td>88.0</td>\n",
       "      <td>3</td>\n",
       "      <td>264.0</td>\n",
       "      <td>8.8</td>\n",
       "      <td>...</td>\n",
       "      <td>0</td>\n",
       "      <td>45.42</td>\n",
       "      <td>136.26</td>\n",
       "      <td>42.58</td>\n",
       "      <td>127.74</td>\n",
       "      <td>48%</td>\n",
       "      <td>PLATINUM COFFEE UNIV.GROUND 250GR TIN</td>\n",
       "      <td>B&amp;P</td>\n",
       "      <td>88.0</td>\n",
       "      <td>88.0</td>\n",
       "    </tr>\n",
       "  </tbody>\n",
       "</table>\n",
       "<p>2 rows × 23 columns</p>\n",
       "</div>"
      ],
      "text/plain": [
       "        *:商品类型   *:品牌                     *:商品编号     *:货号  \\\n",
       "23  咖啡粉/Powder  delta    COFFEE-UNIVERSAL-GROUND  5227052   \n",
       "24  咖啡粉/Powder  delta  COFFEE-UNIVERSAL-GROUND-1  5014060   \n",
       "\n",
       "                                               *:货品名称     *:商品规格  *:销售单价  \\\n",
       "23                                            岱塔研磨咖啡粉        NaN     0.0   \n",
       "24  白金岱塔研磨咖啡粉250G|PLATINUM-COFFEE-UNIV.GROUND-250G...  烘焙程度:重度烘焙    88.0   \n",
       "\n",
       "    *:销售量  *:销售额  *:日均销售额    ...     *:退货总额  *:平均成本  *:销售成本  *:销售平均毛利  *:销售毛利  \\\n",
       "23      3    0.0      0.0    ...          0   39.43  118.29    -39.43 -118.29   \n",
       "24      3  264.0      8.8    ...          0   45.42  136.26     42.58  127.74   \n",
       "\n",
       "    *:销售毛利率                            dfs_en_name  category original_price  \\\n",
       "23       0%  DECAFFEINATED COFFEE UNIV.GROUNG 250G       B&P           88.0   \n",
       "24      48%  PLATINUM COFFEE UNIV.GROUND 250GR TIN       B&P           88.0   \n",
       "\n",
       "   d11_price  \n",
       "23      88.0  \n",
       "24      88.0  \n",
       "\n",
       "[2 rows x 23 columns]"
      ]
     },
     "execution_count": 10,
     "metadata": {},
     "output_type": "execute_result"
    }
   ],
   "source": [
    "with open('downloads/货品销售情况导出-2018-11-10-90.csv', 'rb') as f:\n",
    "    result = chardet.detect(f.read()) \n",
    "productSales=pd.read_csv('downloads/货品销售情况导出-2018-11-10-90.csv', \n",
    "            encoding=result['encoding']) \n",
    "with open('downloads/d11+delta+product+master.xlsx', 'rb') as f:\n",
    "    result = chardet.detect(f.read()) \n",
    "productMaster=pd.read_excel('downloads/d11+delta+product+master.xlsx', \n",
    "            encoding=result['encoding']) \n",
    "productMaster.head()  \n",
    "product_sales_master= pd.merge(productSales,productMaster,on='*:货号', how='left')\n",
    "product_sales_master.columns\n",
    "product_sales_master.to_excel('Product_Sales_Master.xlsx') \n",
    "product_sales_master.tail(2) "
   ]
  },
  {
   "cell_type": "markdown",
   "metadata": {},
   "source": [
    "<ul>\n",
    "    <li>all sales, sales amount,AUR,margin,draw the table, qty by category, table(only)</li>\n",
    "    <li>AUR [AVERAGE UNIT BY RETAILING] by category</li>\n",
    "    <li>margin by category</li>\n",
    "    <li>orders (QTY) by the category</li>\n",
    "</ul>    "
   ]
  },
  {
   "cell_type": "code",
   "execution_count": 11,
   "metadata": {},
   "outputs": [
    {
     "name": "stdout",
     "output_type": "stream",
     "text": [
      "category\n",
      "QOOL         1\n",
      "MILKQOOL     5\n",
      "B&P         67\n",
      "CAPSULES    82\n",
      "Name: *:销售量, dtype: int64\n"
     ]
    },
    {
     "data": {
      "image/png": "[encoded data removed]",
      "text/plain": [
       "<Figure size 432x288 with 1 Axes>"
      ]
     },
     "metadata": {},
     "output_type": "display_data"
    }
   ],
   "source": [
    "df_sales_c=product_sales_master.groupby('category')['*:销售量'].sum()\n",
    "df_df_salesAmount_c=product_sales_master.groupby('category')['*:销售额'].sum() \n",
    "product_sales_master['AUR']=product_sales_master['*:销售额']/product_sales_master['*:销售量'] \n",
    "df_AUR=product_sales_master.groupby('category')['AUR'].sum() \n",
    "product_sales_master['margin_by_category']=1-(product_sales_master['*:销售成本']/product_sales_master['*:销售额']) \n",
    "df_margin_c=product_sales_master.groupby('category')['margin_by_category'].sum() \n",
    "product_sales_by_category=product_sales_master.groupby('category')['*:销售量'].sum() \n",
    "print(product_sales_by_category.sort_values())   \n",
    "df_orders_qty_c=product_sales_by_category.plot.bar() "
   ]
  },
  {
   "cell_type": "markdown",
   "metadata": {},
   "source": [
    "<h4 style='color: red'>final discount by the category</h4> "
   ]
  },
  {
   "cell_type": "code",
   "execution_count": 12,
   "metadata": {},
   "outputs": [
    {
     "data": {
      "text/plain": [
       "category  final_discount\n",
       "B&P       0.000000          1\n",
       "          0.129032          1\n",
       "          0.170213          1\n",
       "          0.200000          1\n",
       "          0.248276          1\n",
       "          0.348837          3\n",
       "          1.000000          2\n",
       "CAPSULES  0.309524          1\n",
       "          0.322581          1\n",
       "          0.338164          1\n",
       "          0.434783          2\n",
       "          0.554348          1\n",
       "          0.745342          1\n",
       "          0.916667          1\n",
       "          1.000000          1\n",
       "MILKQOOL  0.201040          1\n",
       "          0.301811          1\n",
       "          1.000000          1\n",
       "QOOL      0.275735          1\n",
       "Name: final_discount, dtype: int64"
      ]
     },
     "execution_count": 12,
     "metadata": {},
     "output_type": "execute_result"
    }
   ],
   "source": [
    "product_sales_master['Retail_of_goods']=product_sales_master['original_price']*product_sales_master['*:销售量']  \n",
    "product_sales_master['final_discount']= 1- (product_sales_master['*:销售额']/product_sales_master['Retail_of_goods']) \n",
    "sales_category=product_sales_master.groupby(['category','final_discount'])['final_discount'].count() \n",
    "sales_category "
   ]
  },
  {
   "cell_type": "code",
   "execution_count": 13,
   "metadata": {},
   "outputs": [
    {
     "data": {
      "text/html": [
       "<div>\n",
       "<style scoped>\n",
       "    .dataframe tbody tr th:only-of-type {\n",
       "        vertical-align: middle;\n",
       "    }\n",
       "\n",
       "    .dataframe tbody tr th {\n",
       "        vertical-align: top;\n",
       "    }\n",
       "\n",
       "    .dataframe thead th {\n",
       "        text-align: right;\n",
       "    }\n",
       "</style>\n",
       "<table border=\"1\" class=\"dataframe\">\n",
       "  <thead>\n",
       "    <tr style=\"text-align: right;\">\n",
       "      <th></th>\n",
       "      <th>category</th>\n",
       "      <th>df_sales_c</th>\n",
       "      <th>df_df_salesAmount_c</th>\n",
       "      <th>df_AUR</th>\n",
       "      <th>df_margin_c</th>\n",
       "    </tr>\n",
       "  </thead>\n",
       "  <tbody>\n",
       "    <tr>\n",
       "      <th>0</th>\n",
       "      <td>B&amp;P</td>\n",
       "      <td>67</td>\n",
       "      <td>8565.0</td>\n",
       "      <td>954.600000</td>\n",
       "      <td>-inf</td>\n",
       "    </tr>\n",
       "    <tr>\n",
       "      <th>1</th>\n",
       "      <td>CAPSULES</td>\n",
       "      <td>82</td>\n",
       "      <td>2330.0</td>\n",
       "      <td>392.492063</td>\n",
       "      <td>-inf</td>\n",
       "    </tr>\n",
       "    <tr>\n",
       "      <th>2</th>\n",
       "      <td>MILKQOOL</td>\n",
       "      <td>5</td>\n",
       "      <td>6153.0</td>\n",
       "      <td>2976.333333</td>\n",
       "      <td>-inf</td>\n",
       "    </tr>\n",
       "    <tr>\n",
       "      <th>3</th>\n",
       "      <td>QOOL</td>\n",
       "      <td>1</td>\n",
       "      <td>788.0</td>\n",
       "      <td>788.000000</td>\n",
       "      <td>0.259467</td>\n",
       "    </tr>\n",
       "  </tbody>\n",
       "</table>\n",
       "</div>"
      ],
      "text/plain": [
       "   category  df_sales_c  df_df_salesAmount_c       df_AUR  df_margin_c\n",
       "0       B&P          67               8565.0   954.600000         -inf\n",
       "1  CAPSULES          82               2330.0   392.492063         -inf\n",
       "2  MILKQOOL           5               6153.0  2976.333333         -inf\n",
       "3      QOOL           1                788.0   788.000000     0.259467"
      ]
     },
     "execution_count": 13,
     "metadata": {},
     "output_type": "execute_result"
    }
   ],
   "source": [
    "table_category=pd.DataFrame(dict(df_sales_c=df_sales_c,df_df_salesAmount_c=df_df_salesAmount_c, \n",
    "              df_AUR=df_AUR,df_margin_c=df_margin_c)).reset_index()\n",
    "table_category "
   ]
  },
  {
   "cell_type": "markdown",
   "metadata": {},
   "source": [
    "<h4 style='color: red'><strong>order (QTY) by the product English name</strong></h4>   "
   ]
  },
  {
   "cell_type": "code",
   "execution_count": 14,
   "metadata": {},
   "outputs": [
    {
     "data": {
      "text/html": [
       "<div>\n",
       "<style scoped>\n",
       "    .dataframe tbody tr th:only-of-type {\n",
       "        vertical-align: middle;\n",
       "    }\n",
       "\n",
       "    .dataframe tbody tr th {\n",
       "        vertical-align: top;\n",
       "    }\n",
       "\n",
       "    .dataframe thead th {\n",
       "        text-align: right;\n",
       "    }\n",
       "</style>\n",
       "<table border=\"1\" class=\"dataframe\">\n",
       "  <thead>\n",
       "    <tr style=\"text-align: right;\">\n",
       "      <th></th>\n",
       "      <th>*:销售量</th>\n",
       "    </tr>\n",
       "    <tr>\n",
       "      <th>dfs_en_name</th>\n",
       "      <th></th>\n",
       "    </tr>\n",
       "  </thead>\n",
       "  <tbody>\n",
       "    <tr>\n",
       "      <th>PLATINUM COFFEE BEANS 500 GR</th>\n",
       "      <td>1</td>\n",
       "    </tr>\n",
       "    <tr>\n",
       "      <th>DELTA Q 50 CAPS+QOOL EVO WHITE</th>\n",
       "      <td>1</td>\n",
       "    </tr>\n",
       "    <tr>\n",
       "      <th>DECAFFEINATED ROASTED COFFEE 1KG</th>\n",
       "      <td>1</td>\n",
       "    </tr>\n",
       "    <tr>\n",
       "      <th>DELTA Q 50 CAPS+DELTA Q MILKQOOL JADE LE</th>\n",
       "      <td>1</td>\n",
       "    </tr>\n",
       "    <tr>\n",
       "      <th>DELTA Q 50 CAPS+MILKQOOL BLUE</th>\n",
       "      <td>1</td>\n",
       "    </tr>\n",
       "    <tr>\n",
       "      <th>DELTA Q 50 CAPS+MILKQOOL BLACK</th>\n",
       "      <td>3</td>\n",
       "    </tr>\n",
       "    <tr>\n",
       "      <th>CAPSULES PKG (7,3,5,8,9,10)</th>\n",
       "      <td>3</td>\n",
       "    </tr>\n",
       "    <tr>\n",
       "      <th>PLATINUM COFFEE UNIV.GROUND 250GR TIN</th>\n",
       "      <td>3</td>\n",
       "    </tr>\n",
       "    <tr>\n",
       "      <th>DECAFFEINATED COFFEE UNIV.GROUNG 250G</th>\n",
       "      <td>3</td>\n",
       "    </tr>\n",
       "    <tr>\n",
       "      <th>DELTA Q-QONVICTUS COFFEE CAPSULES BOX 10UN</th>\n",
       "      <td>4</td>\n",
       "    </tr>\n",
       "    <tr>\n",
       "      <th>COLOMBIA ROASTED COFFEE BEANS 1KG</th>\n",
       "      <td>5</td>\n",
       "    </tr>\n",
       "    <tr>\n",
       "      <th>DELTA Q-JADE COFFEE CAPSULES BOX 10UN</th>\n",
       "      <td>6</td>\n",
       "    </tr>\n",
       "    <tr>\n",
       "      <th>ANGOLA COFFEE UNIVERSAL GROUND 220GR</th>\n",
       "      <td>6</td>\n",
       "    </tr>\n",
       "    <tr>\n",
       "      <th>DELTA Q-DELIQATUS COFFEE CAPSULES BOX 10UN</th>\n",
       "      <td>7</td>\n",
       "    </tr>\n",
       "    <tr>\n",
       "      <th>BRASIL COFFEE UNIVERSAL GROUND 220GR</th>\n",
       "      <td>7</td>\n",
       "    </tr>\n",
       "    <tr>\n",
       "      <th>COLOMBIA COFFEE UNIVERSAL GROUND 220GR</th>\n",
       "      <td>8</td>\n",
       "    </tr>\n",
       "    <tr>\n",
       "      <th>DELTA Q-YUNNAN COFFEE CAPSULES BOX 10UN</th>\n",
       "      <td>8</td>\n",
       "    </tr>\n",
       "    <tr>\n",
       "      <th>DELTA Q-AQTIVUS COFFEE CAPSULES BOX 10UN</th>\n",
       "      <td>12</td>\n",
       "    </tr>\n",
       "    <tr>\n",
       "      <th>DELTA Q-DEQAFEINATUS COFFEE CAPSULES BOX 10UN</th>\n",
       "      <td>12</td>\n",
       "    </tr>\n",
       "    <tr>\n",
       "      <th>DELTA Q-QHARACTER COFFEE CAPSULES BOX 10UN</th>\n",
       "      <td>12</td>\n",
       "    </tr>\n",
       "    <tr>\n",
       "      <th>PLATINUM ROASTED COFFEE BEANS  1KG</th>\n",
       "      <td>13</td>\n",
       "    </tr>\n",
       "    <tr>\n",
       "      <th>DELTA Q-QALIDUS COFFEE CAPSULES BOX 10UN</th>\n",
       "      <td>18</td>\n",
       "    </tr>\n",
       "    <tr>\n",
       "      <th>GOLD ROASTED COFFEE BEANS 1KG</th>\n",
       "      <td>20</td>\n",
       "    </tr>\n",
       "  </tbody>\n",
       "</table>\n",
       "</div>"
      ],
      "text/plain": [
       "                                               *:销售量\n",
       "dfs_en_name                                         \n",
       "PLATINUM COFFEE BEANS 500 GR                       1\n",
       "DELTA Q 50 CAPS+QOOL EVO WHITE                     1\n",
       "DECAFFEINATED ROASTED COFFEE 1KG                   1\n",
       "DELTA Q 50 CAPS+DELTA Q MILKQOOL JADE LE           1\n",
       "DELTA Q 50 CAPS+MILKQOOL BLUE                      1\n",
       "DELTA Q 50 CAPS+MILKQOOL BLACK                     3\n",
       "CAPSULES PKG (7,3,5,8,9,10)                        3\n",
       "PLATINUM COFFEE UNIV.GROUND 250GR TIN              3\n",
       "DECAFFEINATED COFFEE UNIV.GROUNG 250G              3\n",
       "DELTA Q-QONVICTUS COFFEE CAPSULES BOX 10UN         4\n",
       "COLOMBIA ROASTED COFFEE BEANS 1KG                  5\n",
       "DELTA Q-JADE COFFEE CAPSULES BOX 10UN              6\n",
       "ANGOLA COFFEE UNIVERSAL GROUND 220GR               6\n",
       "DELTA Q-DELIQATUS COFFEE CAPSULES BOX 10UN         7\n",
       "BRASIL COFFEE UNIVERSAL GROUND 220GR               7\n",
       "COLOMBIA COFFEE UNIVERSAL GROUND 220GR             8\n",
       "DELTA Q-YUNNAN COFFEE CAPSULES BOX 10UN            8\n",
       "DELTA Q-AQTIVUS COFFEE CAPSULES BOX 10UN          12\n",
       "DELTA Q-DEQAFEINATUS COFFEE CAPSULES BOX 10UN     12\n",
       "DELTA Q-QHARACTER COFFEE CAPSULES BOX 10UN        12\n",
       "PLATINUM ROASTED COFFEE BEANS  1KG                13\n",
       "DELTA Q-QALIDUS COFFEE CAPSULES BOX 10UN          18\n",
       "GOLD ROASTED COFFEE BEANS 1KG                     20"
      ]
     },
     "execution_count": 14,
     "metadata": {},
     "output_type": "execute_result"
    }
   ],
   "source": [
    "product_sales_by_category=product_sales_master.groupby('dfs_en_name')['*:销售量'].sum()\n",
    "table_productType=pd.DataFrame(product_sales_by_category) \n",
    "table_productType.sort_values(by='*:销售量') "
   ]
  },
  {
   "cell_type": "code",
   "execution_count": 15,
   "metadata": {},
   "outputs": [
    {
     "data": {
      "text/html": [
       "<div>\n",
       "<style scoped>\n",
       "    .dataframe tbody tr th:only-of-type {\n",
       "        vertical-align: middle;\n",
       "    }\n",
       "\n",
       "    .dataframe tbody tr th {\n",
       "        vertical-align: top;\n",
       "    }\n",
       "\n",
       "    .dataframe thead th {\n",
       "        text-align: right;\n",
       "    }\n",
       "</style>\n",
       "<table border=\"1\" class=\"dataframe\">\n",
       "  <thead>\n",
       "    <tr style=\"text-align: right;\">\n",
       "      <th></th>\n",
       "      <th>*:货号</th>\n",
       "      <th>*:条形码</th>\n",
       "      <th>*:货品名称</th>\n",
       "      <th>*:规格</th>\n",
       "      <th>*:商品编码</th>\n",
       "      <th>*:库存</th>\n",
       "      <th>*:冻结库存</th>\n",
       "      <th>*:在途库存</th>\n",
       "      <th>*:单位</th>\n",
       "      <th>*:商品类型</th>\n",
       "      <th>*:录入日期</th>\n",
       "    </tr>\n",
       "  </thead>\n",
       "  <tbody>\n",
       "    <tr>\n",
       "      <th>0</th>\n",
       "      <td>5227001</td>\n",
       "      <td>5601082036823</td>\n",
       "      <td>岱塔咖啡豆</td>\n",
       "      <td>低咖啡因豆|1000G</td>\n",
       "      <td>delta-COFFEE-BEANS</td>\n",
       "      <td>19</td>\n",
       "      <td>0</td>\n",
       "      <td>0</td>\n",
       "      <td>包</td>\n",
       "      <td>咖啡豆/Beans</td>\n",
       "      <td>2018-10-12</td>\n",
       "    </tr>\n",
       "    <tr>\n",
       "      <th>1</th>\n",
       "      <td>5010000</td>\n",
       "      <td>5601082034850</td>\n",
       "      <td>岱塔咖啡豆</td>\n",
       "      <td>钻石豆|1000G</td>\n",
       "      <td>delta-COFFEE-BEANS</td>\n",
       "      <td>28</td>\n",
       "      <td>0</td>\n",
       "      <td>0</td>\n",
       "      <td>包</td>\n",
       "      <td>咖啡豆/Beans</td>\n",
       "      <td>2018-10-12</td>\n",
       "    </tr>\n",
       "  </tbody>\n",
       "</table>\n",
       "</div>"
      ],
      "text/plain": [
       "      *:货号          *:条形码 *:货品名称         *:规格              *:商品编码  *:库存  \\\n",
       "0  5227001  5601082036823  岱塔咖啡豆  低咖啡因豆|1000G  delta-COFFEE-BEANS    19   \n",
       "1  5010000  5601082034850  岱塔咖啡豆    钻石豆|1000G  delta-COFFEE-BEANS    28   \n",
       "\n",
       "   *:冻结库存  *:在途库存 *:单位     *:商品类型      *:录入日期  \n",
       "0       0       0    包  咖啡豆/Beans  2018-10-12  \n",
       "1       0       0    包  咖啡豆/Beans  2018-10-12  "
      ]
     },
     "execution_count": 15,
     "metadata": {},
     "output_type": "execute_result"
    }
   ],
   "source": [
    "with open('downloads/products.csv', 'rb') as f:\n",
    "    result = chardet.detect(f.read()) \n",
    "productInventory=pd.read_csv('downloads/products.csv', \n",
    "            encoding=result['encoding']) \n",
    "productInventory.head(2)    "
   ]
  },
  {
   "cell_type": "markdown",
   "metadata": {},
   "source": []
  },
  {
   "cell_type": "code",
   "execution_count": 16,
   "metadata": {},
   "outputs": [
    {
     "data": {
      "text/html": [
       "<div>\n",
       "<style scoped>\n",
       "    .dataframe tbody tr th:only-of-type {\n",
       "        vertical-align: middle;\n",
       "    }\n",
       "\n",
       "    .dataframe tbody tr th {\n",
       "        vertical-align: top;\n",
       "    }\n",
       "\n",
       "    .dataframe thead th {\n",
       "        text-align: right;\n",
       "    }\n",
       "</style>\n",
       "<table border=\"1\" class=\"dataframe\">\n",
       "  <thead>\n",
       "    <tr style=\"text-align: right;\">\n",
       "      <th></th>\n",
       "      <th>*:商品类型_x</th>\n",
       "      <th>*:品牌</th>\n",
       "      <th>*:商品编号</th>\n",
       "      <th>*:货号</th>\n",
       "      <th>*:货品名称_x</th>\n",
       "      <th>*:商品规格</th>\n",
       "      <th>*:销售单价</th>\n",
       "      <th>*:销售量</th>\n",
       "      <th>*:销售额</th>\n",
       "      <th>*:日均销售额</th>\n",
       "      <th>...</th>\n",
       "      <th>*:条形码</th>\n",
       "      <th>*:货品名称_y</th>\n",
       "      <th>*:规格</th>\n",
       "      <th>*:商品编码</th>\n",
       "      <th>*:库存</th>\n",
       "      <th>*:冻结库存</th>\n",
       "      <th>*:在途库存</th>\n",
       "      <th>*:单位</th>\n",
       "      <th>*:商品类型_y</th>\n",
       "      <th>*:录入日期</th>\n",
       "    </tr>\n",
       "  </thead>\n",
       "  <tbody>\n",
       "    <tr>\n",
       "      <th>0</th>\n",
       "      <td>咖啡粉/Powder</td>\n",
       "      <td>delta</td>\n",
       "      <td>COFFEE-UNIVERSAL-GROUND</td>\n",
       "      <td>5017052</td>\n",
       "      <td>岱塔研磨咖啡粉</td>\n",
       "      <td>烘焙程度:中度烘焙</td>\n",
       "      <td>56.0</td>\n",
       "      <td>8</td>\n",
       "      <td>448.0</td>\n",
       "      <td>14.933</td>\n",
       "      <td>...</td>\n",
       "      <td>5.601082e+12</td>\n",
       "      <td>岱塔研磨咖啡粉</td>\n",
       "      <td>220G|哥伦比亚</td>\n",
       "      <td>COFFEE-UNIVERSAL-GROUND</td>\n",
       "      <td>81.0</td>\n",
       "      <td>4.0</td>\n",
       "      <td>0.0</td>\n",
       "      <td>包</td>\n",
       "      <td>咖啡粉/Powder</td>\n",
       "      <td>2018-10-12</td>\n",
       "    </tr>\n",
       "    <tr>\n",
       "      <th>1</th>\n",
       "      <td>咖啡粉/Powder</td>\n",
       "      <td>delta</td>\n",
       "      <td>COFFEE-UNIVERSAL-GROUND</td>\n",
       "      <td>5016053</td>\n",
       "      <td>岱塔研磨咖啡粉</td>\n",
       "      <td>重量规格:220G;咖啡豆产地:安哥拉</td>\n",
       "      <td>56.0</td>\n",
       "      <td>6</td>\n",
       "      <td>336.0</td>\n",
       "      <td>11.200</td>\n",
       "      <td>...</td>\n",
       "      <td>5.601082e+12</td>\n",
       "      <td>岱塔研磨咖啡粉</td>\n",
       "      <td>220G|安哥拉</td>\n",
       "      <td>COFFEE-UNIVERSAL-GROUND</td>\n",
       "      <td>45.0</td>\n",
       "      <td>3.0</td>\n",
       "      <td>0.0</td>\n",
       "      <td>包</td>\n",
       "      <td>咖啡粉/Powder</td>\n",
       "      <td>2018-10-12</td>\n",
       "    </tr>\n",
       "  </tbody>\n",
       "</table>\n",
       "<p>2 rows × 37 columns</p>\n",
       "</div>"
      ],
      "text/plain": [
       "     *:商品类型_x   *:品牌                   *:商品编号     *:货号 *:货品名称_x  \\\n",
       "0  咖啡粉/Powder  delta  COFFEE-UNIVERSAL-GROUND  5017052  岱塔研磨咖啡粉   \n",
       "1  咖啡粉/Powder  delta  COFFEE-UNIVERSAL-GROUND  5016053  岱塔研磨咖啡粉   \n",
       "\n",
       "                *:商品规格  *:销售单价  *:销售量  *:销售额  *:日均销售额     ...      \\\n",
       "0            烘焙程度:中度烘焙    56.0      8  448.0   14.933     ...       \n",
       "1  重量规格:220G;咖啡豆产地:安哥拉    56.0      6  336.0   11.200     ...       \n",
       "\n",
       "          *:条形码  *:货品名称_y       *:规格                   *:商品编码  *:库存  *:冻结库存  \\\n",
       "0  5.601082e+12   岱塔研磨咖啡粉  220G|哥伦比亚  COFFEE-UNIVERSAL-GROUND  81.0     4.0   \n",
       "1  5.601082e+12   岱塔研磨咖啡粉   220G|安哥拉  COFFEE-UNIVERSAL-GROUND  45.0     3.0   \n",
       "\n",
       "   *:在途库存  *:单位    *:商品类型_y      *:录入日期  \n",
       "0     0.0     包  咖啡粉/Powder  2018-10-12  \n",
       "1     0.0     包  咖啡粉/Powder  2018-10-12  \n",
       "\n",
       "[2 rows x 37 columns]"
      ]
     },
     "execution_count": 16,
     "metadata": {},
     "output_type": "execute_result"
    }
   ],
   "source": [
    "product_sales_master_inventory= pd.merge(product_sales_master,productInventory,on='*:货号', how='left') \n",
    "product_sales_master_inventory.head(2)   "
   ]
  },
  {
   "cell_type": "code",
   "execution_count": 17,
   "metadata": {},
   "outputs": [
    {
     "data": {
      "text/plain": [
       "category\n",
       "B&P          416.0\n",
       "CAPSULES    1495.0\n",
       "MILKQOOL      95.0\n",
       "QOOL          28.0\n",
       "Name: *:库存, dtype: float64"
      ]
     },
     "execution_count": 17,
     "metadata": {},
     "output_type": "execute_result"
    }
   ],
   "source": [
    "product_sales_master_inventory.groupby('category')['*:库存'].sum()  "
   ]
  },
  {
   "cell_type": "code",
   "execution_count": 18,
   "metadata": {},
   "outputs": [],
   "source": [
    "product_sales=product_sales_master_inventory.groupby('dfs_en_name')['*:销售额'].sum()  \n",
    "product_sales_qty= product_sales_master_inventory.groupby('dfs_en_name')['*:销售量'].sum() \n",
    "product_remaining_inventory=product_sales_master_inventory.groupby('dfs_en_name')['*:库存'].sum() "
   ]
  },
  {
   "cell_type": "code",
   "execution_count": 19,
   "metadata": {},
   "outputs": [
    {
     "data": {
      "text/html": [
       "<div>\n",
       "<style scoped>\n",
       "    .dataframe tbody tr th:only-of-type {\n",
       "        vertical-align: middle;\n",
       "    }\n",
       "\n",
       "    .dataframe tbody tr th {\n",
       "        vertical-align: top;\n",
       "    }\n",
       "\n",
       "    .dataframe thead th {\n",
       "        text-align: right;\n",
       "    }\n",
       "</style>\n",
       "<table border=\"1\" class=\"dataframe\">\n",
       "  <thead>\n",
       "    <tr style=\"text-align: right;\">\n",
       "      <th></th>\n",
       "      <th>dfs_en_name</th>\n",
       "      <th>product_sales</th>\n",
       "      <th>product_sales_qty</th>\n",
       "      <th>product_remaining_inventory</th>\n",
       "    </tr>\n",
       "  </thead>\n",
       "  <tbody>\n",
       "    <tr>\n",
       "      <th>8</th>\n",
       "      <td>DELTA Q 50 CAPS+MILKQOOL BLACK</td>\n",
       "      <td>4765.0</td>\n",
       "      <td>3</td>\n",
       "      <td>9.0</td>\n",
       "    </tr>\n",
       "    <tr>\n",
       "      <th>19</th>\n",
       "      <td>GOLD ROASTED COFFEE BEANS 1KG</td>\n",
       "      <td>3120.0</td>\n",
       "      <td>20</td>\n",
       "      <td>43.0</td>\n",
       "    </tr>\n",
       "    <tr>\n",
       "      <th>22</th>\n",
       "      <td>PLATINUM ROASTED COFFEE BEANS  1KG</td>\n",
       "      <td>2808.0</td>\n",
       "      <td>13</td>\n",
       "      <td>30.0</td>\n",
       "    </tr>\n",
       "    <tr>\n",
       "      <th>9</th>\n",
       "      <td>DELTA Q 50 CAPS+MILKQOOL BLUE</td>\n",
       "      <td>1388.0</td>\n",
       "      <td>1</td>\n",
       "      <td>36.0</td>\n",
       "    </tr>\n",
       "    <tr>\n",
       "      <th>4</th>\n",
       "      <td>COLOMBIA ROASTED COFFEE BEANS 1KG</td>\n",
       "      <td>1088.0</td>\n",
       "      <td>5</td>\n",
       "      <td>15.0</td>\n",
       "    </tr>\n",
       "    <tr>\n",
       "      <th>10</th>\n",
       "      <td>DELTA Q 50 CAPS+QOOL EVO WHITE</td>\n",
       "      <td>788.0</td>\n",
       "      <td>1</td>\n",
       "      <td>28.0</td>\n",
       "    </tr>\n",
       "    <tr>\n",
       "      <th>2</th>\n",
       "      <td>CAPSULES PKG (7,3,5,8,9,10)</td>\n",
       "      <td>696.0</td>\n",
       "      <td>3</td>\n",
       "      <td>0.0</td>\n",
       "    </tr>\n",
       "    <tr>\n",
       "      <th>15</th>\n",
       "      <td>DELTA Q-QALIDUS COFFEE CAPSULES BOX 10UN</td>\n",
       "      <td>548.0</td>\n",
       "      <td>18</td>\n",
       "      <td>224.0</td>\n",
       "    </tr>\n",
       "    <tr>\n",
       "      <th>3</th>\n",
       "      <td>COLOMBIA COFFEE UNIVERSAL GROUND 220GR</td>\n",
       "      <td>448.0</td>\n",
       "      <td>8</td>\n",
       "      <td>81.0</td>\n",
       "    </tr>\n",
       "    <tr>\n",
       "      <th>1</th>\n",
       "      <td>BRASIL COFFEE UNIVERSAL GROUND 220GR</td>\n",
       "      <td>392.0</td>\n",
       "      <td>7</td>\n",
       "      <td>74.0</td>\n",
       "    </tr>\n",
       "    <tr>\n",
       "      <th>0</th>\n",
       "      <td>ANGOLA COFFEE UNIVERSAL GROUND 220GR</td>\n",
       "      <td>336.0</td>\n",
       "      <td>6</td>\n",
       "      <td>45.0</td>\n",
       "    </tr>\n",
       "    <tr>\n",
       "      <th>16</th>\n",
       "      <td>DELTA Q-QHARACTER COFFEE CAPSULES BOX 10UN</td>\n",
       "      <td>312.0</td>\n",
       "      <td>12</td>\n",
       "      <td>200.0</td>\n",
       "    </tr>\n",
       "    <tr>\n",
       "      <th>11</th>\n",
       "      <td>DELTA Q-AQTIVUS COFFEE CAPSULES BOX 10UN</td>\n",
       "      <td>312.0</td>\n",
       "      <td>12</td>\n",
       "      <td>168.0</td>\n",
       "    </tr>\n",
       "    <tr>\n",
       "      <th>21</th>\n",
       "      <td>PLATINUM COFFEE UNIV.GROUND 250GR TIN</td>\n",
       "      <td>264.0</td>\n",
       "      <td>3</td>\n",
       "      <td>34.0</td>\n",
       "    </tr>\n",
       "    <tr>\n",
       "      <th>14</th>\n",
       "      <td>DELTA Q-JADE COFFEE CAPSULES BOX 10UN</td>\n",
       "      <td>252.0</td>\n",
       "      <td>6</td>\n",
       "      <td>144.0</td>\n",
       "    </tr>\n",
       "    <tr>\n",
       "      <th>20</th>\n",
       "      <td>PLATINUM COFFEE BEANS 500 GR</td>\n",
       "      <td>109.0</td>\n",
       "      <td>1</td>\n",
       "      <td>28.0</td>\n",
       "    </tr>\n",
       "    <tr>\n",
       "      <th>12</th>\n",
       "      <td>DELTA Q-DELIQATUS COFFEE CAPSULES BOX 10UN</td>\n",
       "      <td>82.0</td>\n",
       "      <td>7</td>\n",
       "      <td>236.0</td>\n",
       "    </tr>\n",
       "    <tr>\n",
       "      <th>17</th>\n",
       "      <td>DELTA Q-QONVICTUS COFFEE CAPSULES BOX 10UN</td>\n",
       "      <td>82.0</td>\n",
       "      <td>4</td>\n",
       "      <td>185.0</td>\n",
       "    </tr>\n",
       "    <tr>\n",
       "      <th>13</th>\n",
       "      <td>DELTA Q-DEQAFEINATUS COFFEE CAPSULES BOX 10UN</td>\n",
       "      <td>46.0</td>\n",
       "      <td>12</td>\n",
       "      <td>132.0</td>\n",
       "    </tr>\n",
       "    <tr>\n",
       "      <th>7</th>\n",
       "      <td>DELTA Q 50 CAPS+DELTA Q MILKQOOL JADE LE</td>\n",
       "      <td>0.0</td>\n",
       "      <td>1</td>\n",
       "      <td>50.0</td>\n",
       "    </tr>\n",
       "    <tr>\n",
       "      <th>6</th>\n",
       "      <td>DECAFFEINATED ROASTED COFFEE 1KG</td>\n",
       "      <td>0.0</td>\n",
       "      <td>1</td>\n",
       "      <td>19.0</td>\n",
       "    </tr>\n",
       "    <tr>\n",
       "      <th>18</th>\n",
       "      <td>DELTA Q-YUNNAN COFFEE CAPSULES BOX 10UN</td>\n",
       "      <td>0.0</td>\n",
       "      <td>8</td>\n",
       "      <td>206.0</td>\n",
       "    </tr>\n",
       "    <tr>\n",
       "      <th>5</th>\n",
       "      <td>DECAFFEINATED COFFEE UNIV.GROUNG 250G</td>\n",
       "      <td>0.0</td>\n",
       "      <td>3</td>\n",
       "      <td>47.0</td>\n",
       "    </tr>\n",
       "  </tbody>\n",
       "</table>\n",
       "</div>"
      ],
      "text/plain": [
       "                                      dfs_en_name  product_sales  \\\n",
       "8                  DELTA Q 50 CAPS+MILKQOOL BLACK         4765.0   \n",
       "19                  GOLD ROASTED COFFEE BEANS 1KG         3120.0   \n",
       "22             PLATINUM ROASTED COFFEE BEANS  1KG         2808.0   \n",
       "9                   DELTA Q 50 CAPS+MILKQOOL BLUE         1388.0   \n",
       "4               COLOMBIA ROASTED COFFEE BEANS 1KG         1088.0   \n",
       "10                 DELTA Q 50 CAPS+QOOL EVO WHITE          788.0   \n",
       "2                     CAPSULES PKG (7,3,5,8,9,10)          696.0   \n",
       "15       DELTA Q-QALIDUS COFFEE CAPSULES BOX 10UN          548.0   \n",
       "3          COLOMBIA COFFEE UNIVERSAL GROUND 220GR          448.0   \n",
       "1            BRASIL COFFEE UNIVERSAL GROUND 220GR          392.0   \n",
       "0            ANGOLA COFFEE UNIVERSAL GROUND 220GR          336.0   \n",
       "16     DELTA Q-QHARACTER COFFEE CAPSULES BOX 10UN          312.0   \n",
       "11       DELTA Q-AQTIVUS COFFEE CAPSULES BOX 10UN          312.0   \n",
       "21          PLATINUM COFFEE UNIV.GROUND 250GR TIN          264.0   \n",
       "14          DELTA Q-JADE COFFEE CAPSULES BOX 10UN          252.0   \n",
       "20                   PLATINUM COFFEE BEANS 500 GR          109.0   \n",
       "12     DELTA Q-DELIQATUS COFFEE CAPSULES BOX 10UN           82.0   \n",
       "17     DELTA Q-QONVICTUS COFFEE CAPSULES BOX 10UN           82.0   \n",
       "13  DELTA Q-DEQAFEINATUS COFFEE CAPSULES BOX 10UN           46.0   \n",
       "7        DELTA Q 50 CAPS+DELTA Q MILKQOOL JADE LE            0.0   \n",
       "6                DECAFFEINATED ROASTED COFFEE 1KG            0.0   \n",
       "18        DELTA Q-YUNNAN COFFEE CAPSULES BOX 10UN            0.0   \n",
       "5           DECAFFEINATED COFFEE UNIV.GROUNG 250G            0.0   \n",
       "\n",
       "    product_sales_qty  product_remaining_inventory  \n",
       "8                   3                          9.0  \n",
       "19                 20                         43.0  \n",
       "22                 13                         30.0  \n",
       "9                   1                         36.0  \n",
       "4                   5                         15.0  \n",
       "10                  1                         28.0  \n",
       "2                   3                          0.0  \n",
       "15                 18                        224.0  \n",
       "3                   8                         81.0  \n",
       "1                   7                         74.0  \n",
       "0                   6                         45.0  \n",
       "16                 12                        200.0  \n",
       "11                 12                        168.0  \n",
       "21                  3                         34.0  \n",
       "14                  6                        144.0  \n",
       "20                  1                         28.0  \n",
       "12                  7                        236.0  \n",
       "17                  4                        185.0  \n",
       "13                 12                        132.0  \n",
       "7                   1                         50.0  \n",
       "6                   1                         19.0  \n",
       "18                  8                        206.0  \n",
       "5                   3                         47.0  "
      ]
     },
     "execution_count": 19,
     "metadata": {},
     "output_type": "execute_result"
    }
   ],
   "source": [
    "table_inventory=pd.DataFrame(dict(product_sales=product_sales,\n",
    "                                  product_sales_qty=product_sales_qty,   \n",
    "                                 product_remaining_inventory=product_remaining_inventory)).reset_index()\n",
    "table_inventory.sort_values(by='product_sales', ascending=False) "
   ]
  },
  {
   "cell_type": "code",
   "execution_count": null,
   "metadata": {},
   "outputs": [],
   "source": []
  }
 ],
 "metadata": {
  "kernelspec": {
   "display_name": "Python 3",
   "language": "python",
   "name": "python3"
  },
  "language_info": {
   "codemirror_mode": {
    "name": "ipython",
    "version": 3
   },
   "file_extension": ".py",
   "mimetype": "text/x-python",
   "name": "python",
   "nbconvert_exporter": "python",
   "pygments_lexer": "ipython3",
   "version": "3.6.5"
  }
 },
 "nbformat": 4,
 "nbformat_minor": 2
}
